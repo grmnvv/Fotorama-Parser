{
 "cells": [
  {
   "cell_type": "code",
   "execution_count": 2,
   "id": "684048a8",
   "metadata": {},
   "outputs": [],
   "source": [
    "import time\n",
    "from selenium import webdriver\n",
    "import urllib\n",
    "import urllib.request\n",
    "import requests"
   ]
  },
  {
   "cell_type": "code",
   "execution_count": null,
   "id": "602743d5",
   "metadata": {},
   "outputs": [],
   "source": [
    "print('start...')\n",
    "\n",
    "# указываем путь до драйвера\n",
    "driver = webdriver.Chrome()\n",
    "\n",
    "\n",
    "# даем ссылку на нужный сайт\n",
    "url = \"ССЫЛКА НА САЙТ\"\n",
    "driver.get(url=url)\n",
    "\n",
    "\n",
    "Login = driver.find_element_by_id('НАЙДИТЕ ID ПОЛЯ ВВОДА ЛОГИНА')\n",
    "Login.send_keys('ЛОГИН')\n",
    "Pass = driver.find_element_by_id('НАЙДИТЕ ID ПОЛЯ ВВОДА ПАРОЛЯ')\n",
    "Pass.send_keys('ПАРОЛЬ')\n",
    "driver.find_element_by_name('yt0').click()\n",
    "driver.get('ССЫЛКА НА СТРАНИЦУ С FOTORAMA (ДАЛЬШЕ ОНО БУДЕТ ПАРСИТЬ САМОСТОЯТЕЛЬНО)')\n",
    "\n",
    "\n",
    "\n",
    "\n",
    "i = 0\n",
    "\n",
    "while True:   \n",
    "    try:\n",
    "        url = driver.find_element_by_xpath(\"//div[contains(@class, 'fotorama__active')]/img\").get_attribute('src')\n",
    "    except NoSuchElementException:\n",
    "        break        \n",
    "\n",
    "    i += 1\n",
    "    print(i, url)\n",
    "            \n",
    "    driver.find_element_by_xpath(\"//div[@class='fotorama__arr fotorama__arr--next']\").click()\n",
    "    \n",
    "\n",
    "    urllib.request.urlretrieve(url, '3 лекция/' + str(i) +'.jpg')\n",
    "    \n",
    "    time.sleep(2)\n",
    "\n",
    "print('done.')"
   ]
  },
  {
   "cell_type": "code",
   "execution_count": null,
   "id": "96a07b60",
   "metadata": {},
   "outputs": [],
   "source": []
  }
 ],
 "metadata": {
  "kernelspec": {
   "display_name": "Python 3",
   "language": "python",
   "name": "python3"
  },
  "language_info": {
   "codemirror_mode": {
    "name": "ipython",
    "version": 3
   },
   "file_extension": ".py",
   "mimetype": "text/x-python",
   "name": "python",
   "nbconvert_exporter": "python",
   "pygments_lexer": "ipython3",
   "version": "3.8.8"
  }
 },
 "nbformat": 4,
 "nbformat_minor": 5
}
